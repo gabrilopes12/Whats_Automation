{
 "cells": [
  {
   "cell_type": "code",
   "execution_count": 41,
   "metadata": {},
   "outputs": [
    {
     "name": "stdout",
     "output_type": "stream",
     "text": [
      "Por favor, escaneie o QR Code para continuar...\n",
      "Enviando mensagem para pai...\n",
      "Mensagem enviada para pai com sucesso!\n",
      "Enviando mensagem para mae...\n",
      "Mensagem enviada para mae com sucesso!\n",
      "Enviando mensagem para irmao...\n",
      "Mensagem enviada para irmao com sucesso!\n",
      "Mensagens enviadas para todos os contatos!\n"
     ]
    }
   ],
   "source": [
    "from webdriver_manager.chrome import ChromeDriverManager\n",
    "from selenium import webdriver\n",
    "from selenium.webdriver.chrome.service import Service\n",
    "from selenium.webdriver.common.by import By\n",
    "from selenium.webdriver.support.wait import WebDriverWait\n",
    "from selenium.webdriver.support import expected_conditions as EC\n",
    "from selenium.webdriver.common.keys import Keys\n",
    "\n",
    "# Configuração do WebDriver\n",
    "service = Service(ChromeDriverManager().install())\n",
    "driver = webdriver.Chrome(service=service)\n",
    "\n",
    "try:\n",
    "    # Abrindo o WhatsApp Web\n",
    "    driver.get(\"https://web.whatsapp.com/\")\n",
    "    print(\"Por favor, escaneie o QR Code para continuar...\")\n",
    "    wait = WebDriverWait(driver, timeout=60)\n",
    "    \n",
    "    # Aguarda o carregamento da barra lateral (significa que o WhatsApp está pronto)\n",
    "    wait.until(EC.presence_of_element_located((By.XPATH, '//*[@id=\"side\"]')))\n",
    "    \n",
    "    # Lista de contatos e mensagem\n",
    "    contatos = [\"pai\", \"mae\", \"irmao\"]\n",
    "    mensagem = \"Feliz Natal! Que o Natal traga consigo a música da esperança, a melodia do amor e a harmonia da paz.\"\n",
    "    \n",
    "    for contato in contatos:\n",
    "        print(f\"Enviando mensagem para {contato}...\")\n",
    "\n",
    "        # Localiza e interage com a barra de pesquisa\n",
    "        barrapesquisa = wait.until(EC.presence_of_element_located((By.XPATH, '//div[@contenteditable=\"true\"][@data-tab=\"3\"]')))\n",
    "        barrapesquisa.clear()  # Limpa a barra de pesquisa\n",
    "        barrapesquisa.send_keys(contato)\n",
    "        barrapesquisa.send_keys(Keys.RETURN)\n",
    "        \n",
    "        try:\n",
    "            # Aguarda o carregamento da conversa\n",
    "            span_buscando = f'//span[@title=\"{contato}\"]'\n",
    "            conversa_lateral = wait.until(EC.presence_of_element_located((By.XPATH, span_buscando)))\n",
    "            \n",
    "            # Rolando até o elemento para garantir que ele esteja visível\n",
    "            driver.execute_script(\"arguments[0].scrollIntoView();\", conversa_lateral)\n",
    "            \n",
    "            # Espera até o contato ser clicável e clica\n",
    "            conversa_lateral = wait.until(EC.element_to_be_clickable((By.XPATH, span_buscando)))\n",
    "            conversa_lateral.click()\n",
    "\n",
    "            # Aguarda o campo de mensagem carregar\n",
    "            barrademensagem = wait.until(\n",
    "                EC.presence_of_element_located(\n",
    "                    (By.XPATH, '//div[@contenteditable=\"true\" and @aria-placeholder=\"Digite uma mensagem\"]')\n",
    "                )\n",
    "            )\n",
    "            \n",
    "            # Envia a mensagem\n",
    "            barrademensagem.send_keys(mensagem)\n",
    "            barrademensagem.send_keys(Keys.RETURN)\n",
    "            print(f\"Mensagem enviada para {contato} com sucesso!\")\n",
    "        except Exception as e:\n",
    "            print(f\"Ocorreu um erro ao enviar a mensagem para {contato}: {e}\")\n",
    "\n",
    "    print(\"Mensagens enviadas para todos os contatos!\")\n",
    "\n",
    "except Exception as e:\n",
    "    print(f\"Ocorreu um erro: {e}\")\n"
   ]
  }
 ],
 "metadata": {
  "kernelspec": {
   "display_name": "base",
   "language": "python",
   "name": "python3"
  },
  "language_info": {
   "codemirror_mode": {
    "name": "ipython",
    "version": 3
   },
   "file_extension": ".py",
   "mimetype": "text/x-python",
   "name": "python",
   "nbconvert_exporter": "python",
   "pygments_lexer": "ipython3",
   "version": "3.12.2"
  }
 },
 "nbformat": 4,
 "nbformat_minor": 2
}
